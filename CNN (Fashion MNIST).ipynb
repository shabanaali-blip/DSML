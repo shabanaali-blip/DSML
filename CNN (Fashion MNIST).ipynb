{
 "cells": [
  {
   "cell_type": "code",
   "execution_count": 2,
   "id": "59e64c50",
   "metadata": {},
   "outputs": [
    {
     "name": "stdout",
     "output_type": "stream",
     "text": [
      "Downloading data from https://storage.googleapis.com/tensorflow/tf-keras-datasets/train-labels-idx1-ubyte.gz\n",
      "32768/29515 [=================================] - 0s 1us/step\n",
      "Downloading data from https://storage.googleapis.com/tensorflow/tf-keras-datasets/train-images-idx3-ubyte.gz\n",
      "26427392/26421880 [==============================] - 2s 0us/step\n",
      "Downloading data from https://storage.googleapis.com/tensorflow/tf-keras-datasets/t10k-labels-idx1-ubyte.gz\n",
      "8192/5148 [===============================================] - 0s 0s/step\n",
      "Downloading data from https://storage.googleapis.com/tensorflow/tf-keras-datasets/t10k-images-idx3-ubyte.gz\n",
      "4423680/4422102 [==============================] - 0s 0us/step\n"
     ]
    }
   ],
   "source": [
    "# loading dataset\n",
    "\n",
    "import tensorflow as tf\n",
    "from tensorflow import keras\n",
    "mnistDB = keras.datasets.fashion_mnist\n",
    "(x_train, y_train), (x_test, y_test) = mnistDB.load_data()"
   ]
  },
  {
   "cell_type": "code",
   "execution_count": 3,
   "id": "1504f32f",
   "metadata": {},
   "outputs": [
    {
     "data": {
      "text/plain": [
       "<matplotlib.image.AxesImage at 0x1e9c1f3b1c0>"
      ]
     },
     "execution_count": 3,
     "metadata": {},
     "output_type": "execute_result"
    },
    {
     "data": {
      "image/png": "[encoded data removed]",
      "text/plain": [
       "<Figure size 432x288 with 1 Axes>"
      ]
     },
     "metadata": {
      "needs_background": "light"
     },
     "output_type": "display_data"
    }
   ],
   "source": [
    "# example image\n",
    "\n",
    "import matplotlib.pyplot as plt\n",
    "plt.imshow(x_train[2], cmap = 'binary')"
   ]
  },
  {
   "cell_type": "code",
   "execution_count": 4,
   "id": "1054c77a",
   "metadata": {},
   "outputs": [],
   "source": [
    "# reshape\n",
    "\n",
    "x_train = x_train.reshape(60000, 28, 28, 1)\n",
    "x_test = x_test.reshape(10000, 28, 28, 1)\n",
    "x_train = x_train.astype('float32')/255\n",
    "x_test = x_test.astype('float32')/255"
   ]
  },
  {
   "cell_type": "code",
   "execution_count": 5,
   "id": "c9899ea4",
   "metadata": {},
   "outputs": [
    {
     "name": "stdout",
     "output_type": "stream",
     "text": [
      "Model: \"sequential\"\n",
      "_________________________________________________________________\n",
      "Layer (type)                 Output Shape              Param #   \n",
      "=================================================================\n",
      "conv2d (Conv2D)              (None, 26, 26, 32)        320       \n",
      "_________________________________________________________________\n",
      "conv2d_1 (Conv2D)            (None, 24, 24, 64)        18496     \n",
      "_________________________________________________________________\n",
      "max_pooling2d (MaxPooling2D) (None, 12, 12, 64)        0         \n",
      "_________________________________________________________________\n",
      "dropout (Dropout)            (None, 12, 12, 64)        0         \n",
      "_________________________________________________________________\n",
      "flatten (Flatten)            (None, 9216)              0         \n",
      "_________________________________________________________________\n",
      "dense (Dense)                (None, 128)               1179776   \n",
      "_________________________________________________________________\n",
      "dropout_1 (Dropout)          (None, 128)               0         \n",
      "_________________________________________________________________\n",
      "dense_1 (Dense)              (None, 10)                1290      \n",
      "=================================================================\n",
      "Total params: 1,199,882\n",
      "Trainable params: 1,199,882\n",
      "Non-trainable params: 0\n",
      "_________________________________________________________________\n"
     ]
    }
   ],
   "source": [
    "cnnModel_MNIST = keras.models.Sequential()\n",
    "cnnModel_MNIST.add(keras.layers.Conv2D(32, (3, 3), activation = 'relu', input_shape = x_train.shape[1:]))\n",
    "cnnModel_MNIST.add(keras.layers.Conv2D(64, (3, 3), activation = 'relu'))\n",
    "cnnModel_MNIST.add(keras.layers.MaxPooling2D(2, 2))\n",
    "cnnModel_MNIST.add(keras.layers.Dropout(0.25))\n",
    "cnnModel_MNIST.add(keras.layers.Flatten())\n",
    "cnnModel_MNIST.add(keras.layers.Dense(128, activation = 'relu'))\n",
    "cnnModel_MNIST.add(keras.layers.Dropout(0.25))\n",
    "cnnModel_MNIST.add(keras.layers.Dense(10, activation = 'softmax'))\n",
    "cnnModel_MNIST.summary()"
   ]
  },
  {
   "cell_type": "code",
   "execution_count": 6,
   "id": "58ce1eac",
   "metadata": {},
   "outputs": [
    {
     "name": "stdout",
     "output_type": "stream",
     "text": [
      "3750/3750 [==============================] - 107s 29ms/step - loss: 0.4015 - accuracy: 0.8558\n",
      "313/313 [==============================] - 4s 13ms/step - loss: 0.3030 - accuracy: 0.8854\n",
      "Test loss, test accuracy = (0.3030320405960083, 0.8853999972343445)\n"
     ]
    }
   ],
   "source": [
    "cnnModel_MNIST.compile(loss = 'sparse_categorical_crossentropy', optimizer = 'adam', metrics = ['accuracy'])\n",
    "cnnModel_MNIST.fit(x_train, y_train, epochs = 1, batch_size = 16)\n",
    "test_loss, test_accuracy = cnnModel_MNIST.evaluate(x_test, y_test)\n",
    "print(f'Test loss, test accuracy = {test_loss, test_accuracy}')"
   ]
  }
 ],
 "metadata": {
  "kernelspec": {
   "display_name": "Python 3",
   "language": "python",
   "name": "python3"
  },
  "language_info": {
   "codemirror_mode": {
    "name": "ipython",
    "version": 3
   },
   "file_extension": ".py",
   "mimetype": "text/x-python",
   "name": "python",
   "nbconvert_exporter": "python",
   "pygments_lexer": "ipython3",
   "version": "3.8.8"
  }
 },
 "nbformat": 4,
 "nbformat_minor": 5
}
