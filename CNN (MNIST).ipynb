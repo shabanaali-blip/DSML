{
 "cells": [
  {
   "cell_type": "code",
   "execution_count": 13,
   "id": "aea131eb",
   "metadata": {},
   "outputs": [],
   "source": [
    "# loading dataset\n",
    "\n",
    "import tensorflow as tf\n",
    "from tensorflow import keras\n",
    "mnistDB = keras.datasets.mnist\n",
    "(x_train, y_train), (x_test, y_test) = mnistDB.load_data()"
   ]
  },
  {
   "cell_type": "code",
   "execution_count": 14,
   "id": "0fd1eb8d",
   "metadata": {},
   "outputs": [
    {
     "data": {
      "text/plain": [
       "<matplotlib.image.AxesImage at 0x21503c4f250>"
      ]
     },
     "execution_count": 14,
     "metadata": {},
     "output_type": "execute_result"
    },
    {
     "data": {
      "image/png": "[encoded data removed]",
      "text/plain": [
       "<Figure size 432x288 with 1 Axes>"
      ]
     },
     "metadata": {
      "needs_background": "light"
     },
     "output_type": "display_data"
    }
   ],
   "source": [
    "# example image\n",
    "\n",
    "import matplotlib.pyplot as plt\n",
    "plt.imshow(x_train[2], cmap = 'binary')"
   ]
  },
  {
   "cell_type": "code",
   "execution_count": 15,
   "id": "6d72dc3e",
   "metadata": {},
   "outputs": [],
   "source": [
    "# reshape\n",
    "\n",
    "x_train = x_train.reshape(60000, 28, 28, 1)\n",
    "x_test = x_test.reshape(10000, 28, 28, 1)\n",
    "x_train = x_train.astype('float32')/255\n",
    "x_test = x_test.astype('float32')/255"
   ]
  },
  {
   "cell_type": "code",
   "execution_count": 10,
   "id": "0f191045",
   "metadata": {},
   "outputs": [
    {
     "name": "stdout",
     "output_type": "stream",
     "text": [
      "Model: \"sequential_5\"\n",
      "_________________________________________________________________\n",
      "Layer (type)                 Output Shape              Param #   \n",
      "=================================================================\n",
      "conv2d_7 (Conv2D)            (None, 26, 26, 32)        320       \n",
      "_________________________________________________________________\n",
      "conv2d_8 (Conv2D)            (None, 24, 24, 64)        18496     \n",
      "_________________________________________________________________\n",
      "max_pooling2d (MaxPooling2D) (None, 12, 12, 64)        0         \n",
      "_________________________________________________________________\n",
      "dropout (Dropout)            (None, 12, 12, 64)        0         \n",
      "_________________________________________________________________\n",
      "flatten (Flatten)            (None, 9216)              0         \n",
      "_________________________________________________________________\n",
      "dense (Dense)                (None, 128)               1179776   \n",
      "_________________________________________________________________\n",
      "dropout_1 (Dropout)          (None, 128)               0         \n",
      "_________________________________________________________________\n",
      "dense_1 (Dense)              (None, 10)                1290      \n",
      "=================================================================\n",
      "Total params: 1,199,882\n",
      "Trainable params: 1,199,882\n",
      "Non-trainable params: 0\n",
      "_________________________________________________________________\n"
     ]
    }
   ],
   "source": [
    "# loading model and creating layers\n",
    "\n",
    "cnnModel_MNIST = keras.models.Sequential()\n",
    "cnnModel_MNIST.add(keras.layers.Conv2D(32, (3, 3), activation = 'relu', input_shape = x_train.shape[1:]))\n",
    "cnnModel_MNIST.add(keras.layers.Conv2D(64, (3, 3), activation = 'relu'))\n",
    "cnnModel_MNIST.add(keras.layers.MaxPooling2D(2, 2))\n",
    "cnnModel_MNIST.add(keras.layers.Dropout(0.25))\n",
    "cnnModel_MNIST.add(keras.layers.Flatten())\n",
    "cnnModel_MNIST.add(keras.layers.Dense(128, activation = 'relu'))\n",
    "cnnModel_MNIST.add(keras.layers.Dropout(0.25))\n",
    "cnnModel_MNIST.add(keras.layers.Dense(10, activation = 'softmax'))\n",
    "cnnModel_MNIST.summary()"
   ]
  },
  {
   "cell_type": "code",
   "execution_count": 12,
   "id": "f51a9628",
   "metadata": {},
   "outputs": [
    {
     "name": "stdout",
     "output_type": "stream",
     "text": [
      "3750/3750 [==============================] - 106s 28ms/step - loss: 0.1323 - accuracy: 0.9602\n",
      "313/313 [==============================] - 4s 13ms/step - loss: 0.0499 - accuracy: 0.9845\n",
      "Test loss, test accuracy = (0.049901027232408524, 0.984499990940094)\n"
     ]
    }
   ],
   "source": [
    "# compiling and fitting of data\n",
    "\n",
    "cnnModel_MNIST.compile(loss = 'sparse_categorical_crossentropy', optimizer = 'adam', metrics = ['accuracy'])\n",
    "cnnModel_MNIST.fit(x_train, y_train, epochs = 1, batch_size = 16)\n",
    "test_loss, test_accuracy = cnnModel_MNIST.evaluate(x_test, y_test)\n",
    "print(f'Test loss, test accuracy = {test_loss, test_accuracy}')"
   ]
  }
 ],
 "metadata": {
  "kernelspec": {
   "display_name": "Python 3",
   "language": "python",
   "name": "python3"
  },
  "language_info": {
   "codemirror_mode": {
    "name": "ipython",
    "version": 3
   },
   "file_extension": ".py",
   "mimetype": "text/x-python",
   "name": "python",
   "nbconvert_exporter": "python",
   "pygments_lexer": "ipython3",
   "version": "3.8.8"
  }
 },
 "nbformat": 4,
 "nbformat_minor": 5
}
